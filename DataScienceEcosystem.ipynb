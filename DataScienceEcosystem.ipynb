{
 "cells": [
  {
   "cell_type": "markdown",
   "id": "e86ac72b-3adb-4ab7-9259-266bd83d473b",
   "metadata": {},
   "source": [
    "# Data Science Tools and Environment"
   ]
  },
  {
   "cell_type": "markdown",
   "id": "99d4fc31-ffc0-4aae-a62a-fd36ce81ead2",
   "metadata": {},
   "source": [
    "## In this notebook, Data Science Tools and Ecosystem are summarized."
   ]
  },
  {
   "cell_type": "markdown",
   "id": "3dbc1c39-a1c1-44a1-a3c8-d56783b002d7",
   "metadata": {},
   "source": [
    "__Objectives:__\n",
    "* Java\n",
    "* Python\n",
    "* R"
   ]
  },
  {
   "cell_type": "markdown",
   "id": "78443350-270f-4590-86e2-e8e012ce902e",
   "metadata": {},
   "source": [
    "### Some of the popular languages that Data Scientists use are:\n",
    "1. Python\n",
    "2. R\n",
    "3. Java\n",
    "4. C++"
   ]
  },
  {
   "cell_type": "markdown",
   "id": "bf047f56-ffd6-4023-9acf-8df014305ff7",
   "metadata": {},
   "source": [
    "### Some of the commonly used libraries used by Data Scientists include:\n",
    "1. Pandas\n",
    "2. Numpy\n",
    "3. TensorFlow\n",
    "4. Keras\n",
    "5. scikit-Learn\n",
    "6. SciPy\n",
    "7. Matplotlib"
   ]
  },
  {
   "cell_type": "markdown",
   "id": "87c39adb-c79c-4d88-a069-ec6aa8f6e73d",
   "metadata": {},
   "source": [
    "| Data Science Tools |\n",
    "| ------------------ |\n",
    "| RStudio |\n",
    "| JupyterLab |\n",
    "| Jupyter Notebook |"
   ]
  },
  {
   "cell_type": "markdown",
   "id": "1cefadf1-c369-4b37-8a54-2f598bbf23c2",
   "metadata": {},
   "source": [
    "### Below are a few examples of evaluating arithmetic expressions in Python\n",
    "1 + 3\n",
    "4 * 5\n",
    "6 - 1"
   ]
  },
  {
   "cell_type": "code",
   "execution_count": 2,
   "id": "6ada7071-4169-43bf-8344-9b40eed9311e",
   "metadata": {},
   "outputs": [
    {
     "data": {
      "text/plain": [
       "17"
      ]
     },
     "execution_count": 2,
     "metadata": {},
     "output_type": "execute_result"
    }
   ],
   "source": [
    "# This a simple arithmetic expression to mutiply then add integers\n",
    "(3*4)+5"
   ]
  },
  {
   "cell_type": "code",
   "execution_count": 3,
   "id": "a62da1a1-fbc5-4400-8a0d-9f65d527ef31",
   "metadata": {},
   "outputs": [
    {
     "data": {
      "text/plain": [
       "3.3333333333333335"
      ]
     },
     "execution_count": 3,
     "metadata": {},
     "output_type": "execute_result"
    }
   ],
   "source": [
    "#  This will convert 200 minutes to hours by diving by 60\n",
    "minutes = 200\n",
    "hours = 200 /60\n",
    "hours"
   ]
  },
  {
   "cell_type": "markdown",
   "id": "f90b8da9-7a2d-414e-a6e8-fcd0ae8cacb8",
   "metadata": {},
   "source": [
    "## Author \n",
    "Aya Tammam"
   ]
  },
  {
   "cell_type": "code",
   "execution_count": null,
   "id": "cec80aef-5098-460a-a993-7d4fe7b57691",
   "metadata": {},
   "outputs": [],
   "source": []
  }
 ],
 "metadata": {
  "kernelspec": {
   "display_name": "Python 3 (ipykernel)",
   "language": "python",
   "name": "python3"
  },
  "language_info": {
   "codemirror_mode": {
    "name": "ipython",
    "version": 3
   },
   "file_extension": ".py",
   "mimetype": "text/x-python",
   "name": "python",
   "nbconvert_exporter": "python",
   "pygments_lexer": "ipython3",
   "version": "3.12.4"
  }
 },
 "nbformat": 4,
 "nbformat_minor": 5
}
